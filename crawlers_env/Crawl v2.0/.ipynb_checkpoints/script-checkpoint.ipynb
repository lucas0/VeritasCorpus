{
 "cells": [
  {
   "cell_type": "code",
   "execution_count": 5,
   "metadata": {
    "_cell_guid": "0af249d2-f7b4-e118-64a7-2e7cbf23843d"
   },
   "outputs": [
    {
     "name": "stdout",
     "output_type": "stream",
     "text": [
      "emergent.csv\n",
      "politifact.csv\n",
      "snopes.csv\n",
      "\n"
     ]
    }
   ],
   "source": [
    "# This Python 3 environment comes with many helpful analytics libraries installed\n",
    "# It is defined by the kaggle/python docker image: https://github.com/kaggle/docker-python\n",
    "# For example, here's several helpful packages to load in \n",
    "\n",
    "import numpy as np # linear algebra\n",
    "import pandas as pd # data processing, CSV file I/O (e.g. pd.read_csv)\n",
    "\n",
    "# Input data files are available in the \"../input/\" directory.\n",
    "# For example, running this (by clicking run or pressing Shift+Enter) will list the files in the input directory\n",
    "\n",
    "from subprocess import check_output\n",
    "print(check_output([\"ls\", \"../input\"]).decode(\"utf8\"))\n",
    "\n",
    "# Any results you write to the current directory are saved as output."
   ]
  },
  {
   "cell_type": "code",
   "execution_count": null,
   "metadata": {
    "_cell_guid": "56e45a16-e020-404f-3848-e08223d371c4"
   },
   "outputs": [],
   "source": [
    "%matplotlib inline\n",
    "\n",
    "import matplotlib.pyplot as plt\n",
    "import seaborn as sns\n",
    "\n",
    "sns.set_context(\"poster\")\n",
    "sns.set_style(\"ticks\")"
   ]
  },
  {
   "cell_type": "code",
   "execution_count": null,
   "metadata": {
    "_cell_guid": "9b45a7bb-90b7-e555-241d-7e61140c1db7"
   },
   "outputs": [],
   "source": [
    "df_emergent = pd.read_csv(\"../input/emergent.csv\")\n",
    "df_emergent.head()"
   ]
  },
  {
   "cell_type": "code",
   "execution_count": null,
   "metadata": {
    "_cell_guid": "14ca33c7-0e60-dc07-066c-0ff55561cf7d"
   },
   "outputs": [],
   "source": [
    "df_emergent.claim_source_domain.value_counts()"
   ]
  },
  {
   "cell_type": "code",
   "execution_count": null,
   "metadata": {
    "_cell_guid": "0fad8e1d-cfae-b837-ceaf-b13a11016225"
   },
   "outputs": [],
   "source": [
    "df_t = df_emergent.pivot_table(index=\"claim_source_domain\",\n",
    "                       columns=\"claim_label\",\n",
    "                       values=\"emergent_page\", aggfunc=len)\n",
    "\n",
    "df_t.sort_values(\"TRUE\", ascending=False)"
   ]
  },
  {
   "cell_type": "code",
   "execution_count": null,
   "metadata": {
    "_cell_guid": "4c4027de-e22f-b0bb-fdb4-44abc5d96cc3"
   },
   "outputs": [],
   "source": [
    "df_t.sort_values(\"FALSE\", ascending=False)"
   ]
  },
  {
   "cell_type": "code",
   "execution_count": null,
   "metadata": {
    "_cell_guid": "f2eb20c5-c9e2-a9be-be7f-7f2bffca023c"
   },
   "outputs": [],
   "source": [
    "from sklearn.naive_bayes import MultinomialNB\n",
    "from sklearn.pipeline import Pipeline\n",
    "\n",
    "from sklearn.linear_model import LogisticRegression"
   ]
  },
  {
   "cell_type": "code",
   "execution_count": null,
   "metadata": {
    "_cell_guid": "0cf0927d-003d-0f21-81ba-292b2cbd1241"
   },
   "outputs": [],
   "source": [
    "idx = df_emergent[\"claim_label\"] != \"Unverified\"\n",
    "X = pd.get_dummies(df_emergent[\"claim_source_domain\"], sparse=True)[idx]\n",
    "y = df_emergent[\"claim_label\"][idx]\n",
    "X.shape, y.shape"
   ]
  },
  {
   "cell_type": "code",
   "execution_count": null,
   "metadata": {
    "_cell_guid": "70b370dc-5657-a434-07cb-54c02935e87c"
   },
   "outputs": [],
   "source": [
    "def plot_heat(values, index, columns):\n",
    "    grid_kws = {\"height_ratios\": (.9, .05), \"hspace\": .1}\n",
    "    fig, (ax, cbar_ax) = plt.subplots(2,\n",
    "        figsize=(6,22), gridspec_kw=grid_kws)         # Sample figsize in inches\n",
    "    sns.heatmap(\n",
    "        pd.DataFrame(\n",
    "            values,\n",
    "            columns=columns,\n",
    "            index=index).sort_values(\"TRUE\", ascending=False),\n",
    "        #square=True,\n",
    "        ax=ax,\n",
    "        cbar_ax=cbar_ax,\n",
    "        cbar_kws={\"orientation\": \"horizontal\"},\n",
    "        annot=True\n",
    "    )\n",
    "    return fig, ax, cbar_ax\n",
    "\n",
    "#fig.tight_layout()"
   ]
  },
  {
   "cell_type": "code",
   "execution_count": null,
   "metadata": {
    "_cell_guid": "1618d3bb-294d-de73-e5b0-8125d61c8fec"
   },
   "outputs": [],
   "source": [
    "model = MultinomialNB()\n",
    "model.fit(X, y)"
   ]
  },
  {
   "cell_type": "code",
   "execution_count": null,
   "metadata": {
    "_cell_guid": "bfc1ca56-c160-82a0-3fcb-cf965fb4316d"
   },
   "outputs": [],
   "source": [
    "plot_heat(\n",
    "    np.vstack([-model.coef_, model.coef_]).T,\n",
    "    X.columns, model.classes_)"
   ]
  },
  {
   "cell_type": "code",
   "execution_count": null,
   "metadata": {
    "_cell_guid": "e8af05fb-bb40-746a-23ab-b084f9dc73fb"
   },
   "outputs": [],
   "source": [
    "model = LogisticRegression(multi_class=\"multinomial\", solver=\"lbfgs\")\n",
    "model.fit(X, y)"
   ]
  },
  {
   "cell_type": "code",
   "execution_count": null,
   "metadata": {
    "_cell_guid": "32962a3e-299e-8bc4-9a7c-65bf278162db"
   },
   "outputs": [],
   "source": [
    "plot_heat(\n",
    "    np.vstack([-model.coef_, model.coef_]).T,\n",
    "    X.columns, model.classes_)"
   ]
  },
  {
   "cell_type": "code",
   "execution_count": null,
   "metadata": {
    "_cell_guid": "f889f7eb-0612-ab1b-8693-b24e3a762f41"
   },
   "outputs": [],
   "source": []
  }
 ],
 "metadata": {
  "_change_revision": 0,
  "_is_fork": false,
  "kernelspec": {
   "display_name": "Python 3",
   "language": "python",
   "name": "python3"
  },
  "language_info": {
   "codemirror_mode": {
    "name": "ipython",
    "version": 3
   },
   "file_extension": ".py",
   "mimetype": "text/x-python",
   "name": "python",
   "nbconvert_exporter": "python",
   "pygments_lexer": "ipython3",
   "version": "3.5.2"
  }
 },
 "nbformat": 4,
 "nbformat_minor": 1
}
